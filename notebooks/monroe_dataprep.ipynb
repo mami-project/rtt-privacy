{
 "cells": [
  {
   "cell_type": "markdown",
   "metadata": {},
   "source": [
    "## MONROE Data Preparation for Latency Privacy Study\n",
    "\n",
    "This notebook prepares data dumped from MONROE ping measurements to look at the correlation between distance and RTT.\n",
    "\n",
    "Unlike the Atlas case, we have only one single \"anchor\", and our probes might move. Therefore, we get minimum RTT per time bin, and determine mean (median?) location per time bin, and treat each time bin as a separate probe. So this notebook does more preanalysis than the Atlas dataprep notebook does.\n",
    "\n",
    "The MONROE data used here is not currently publicly available; please contact the authors for this data set."
   ]
  },
  {
   "cell_type": "code",
   "execution_count": 1,
   "metadata": {
    "collapsed": true
   },
   "outputs": [],
   "source": [
    "import pandas as pd\n",
    "import matplotlib.pyplot as plt\n",
    "import dateutil.parser as dp\n",
    "import requests\n",
    "import json\n",
    "import csv\n",
    "import os.path\n",
    "\n",
    "from collections import namedtuple"
   ]
  },
  {
   "cell_type": "code",
   "execution_count": 2,
   "metadata": {
    "collapsed": true
   },
   "outputs": [],
   "source": [
    "def csv2nt(filename):\n",
    "    with open(filename, errors=\"replace\") as file:\n",
    "        reader = csv.reader(file)\n",
    "        Data = namedtuple(\"Data\", next(reader))\n",
    "        for row in map(Data._make, reader):\n",
    "            yield row"
   ]
  },
  {
   "cell_type": "code",
   "execution_count": 3,
   "metadata": {
    "collapsed": true
   },
   "outputs": [],
   "source": [
    "ping_df = pd.DataFrame(csv2nt(\"monroe_data/2017-09-01_1504224000_monroe_exp_ping.csv\")).dropna().loc[:,['nodeid','timestamp','operator','rtt']]\n",
    "ping_df[\"nodeid\"] = ping_df[\"nodeid\"].astype(\"int\")\n",
    "ping_df[\"timestamp\"] = pd.to_datetime(ping_df[\"timestamp\"].astype(\"float\"), unit=\"s\")\n",
    "ping_df[\"rtt\"] = pd.to_numeric(ping_df[\"rtt\"], errors=\"coerce\")"
   ]
  },
  {
   "cell_type": "code",
   "execution_count": 4,
   "metadata": {
    "collapsed": true
   },
   "outputs": [],
   "source": [
    "operator_by_nodeid = ping_df.groupby('nodeid').first()['operator']"
   ]
  },
  {
   "cell_type": "code",
   "execution_count": 5,
   "metadata": {
    "collapsed": true
   },
   "outputs": [],
   "source": [
    "gps_df = pd.DataFrame(csv2nt(\"monroe_data/2017-09-01_1504224000_monroe_meta_device_gps.csv\")).dropna().loc[:,['nodeid','timestamp','latitude','longitude']]\n",
    "gps_df[\"nodeid\"] = gps_df[\"nodeid\"].astype(\"int\")\n",
    "gps_df[\"timestamp\"] = pd.to_datetime(gps_df[\"timestamp\"].astype(\"float\"), unit=\"s\")\n",
    "gps_df['latitude'] = pd.to_numeric(gps_df['latitude'], errors=\"coerce\")\n",
    "gps_df['longitude'] = pd.to_numeric(gps_df['longitude'], errors=\"coerce\")"
   ]
  },
  {
   "cell_type": "code",
   "execution_count": 6,
   "metadata": {
    "collapsed": true
   },
   "outputs": [],
   "source": [
    "with pd.HDFStore('monroe.hdf5') as store:\n",
    "    store['ping_df'] = ping_df\n",
    "    store['gps_df'] = gps_df\n",
    "    store['operator_by_nodeid'] = operator_by_nodeid"
   ]
  },
  {
   "cell_type": "markdown",
   "metadata": {},
   "source": [
    "## Preaggregation\n",
    "\n",
    "Take minimum RTT and mean latitude/longitude in five minute bins, and stick them into a joined dataframe."
   ]
  },
  {
   "cell_type": "code",
   "execution_count": 16,
   "metadata": {
    "collapsed": true
   },
   "outputs": [],
   "source": [
    "time_ping_df = ping_df.groupby(('nodeid', pd.Grouper(key=\"timestamp\", freq=\"5min\"))).min().loc[:,['rtt']]\n",
    "time_pingstd_df = ping_df.groupby(('nodeid', pd.Grouper(key=\"timestamp\", freq=\"5min\"))).std().loc[:,['rtt']]\n",
    "time_pingstd_df.columns = ('rttstd',)\n",
    "time_gps_df = gps_df.groupby(('nodeid', pd.Grouper(key=\"timestamp\", freq=\"5min\"))).mean()\n",
    "monroe_rtt_df = time_gps_df.join(time_ping_df, how='inner').join(time_pingstd_df).dropna()\n",
    "monroe_rtt_df.columns = ('plat', 'plon', 'minrtt', 'rttstd')"
   ]
  },
  {
   "cell_type": "code",
   "execution_count": 17,
   "metadata": {
    "collapsed": true
   },
   "outputs": [],
   "source": [
    "with pd.HDFStore('monroe.hdf5') as store:\n",
    "    store['monroe_rtt_df'] = monroe_rtt_df"
   ]
  }
 ],
 "metadata": {
  "kernelspec": {
   "display_name": "Python 3",
   "language": "python",
   "name": "python3"
  },
  "language_info": {
   "codemirror_mode": {
    "name": "ipython",
    "version": 3
   },
   "file_extension": ".py",
   "mimetype": "text/x-python",
   "name": "python",
   "nbconvert_exporter": "python",
   "pygments_lexer": "ipython3",
   "version": "3.6.2"
  }
 },
 "nbformat": 4,
 "nbformat_minor": 2
}
