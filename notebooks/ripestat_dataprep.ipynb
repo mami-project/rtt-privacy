{
 "cells": [
  {
   "cell_type": "code",
   "execution_count": 24,
   "metadata": {
    "collapsed": true
   },
   "outputs": [],
   "source": [
    "import pandas as pd\n",
    "import matplotlib.pyplot as plt\n",
    "import dateutil.parser as dp\n",
    "import requests\n",
    "import json\n",
    "import os.path\n",
    "\n",
    "from collections import namedtuple\n",
    "\n",
    "import warnings\n",
    "warnings.filterwarnings(\"ignore\") "
   ]
  },
  {
   "cell_type": "code",
   "execution_count": 25,
   "metadata": {
    "collapsed": true
   },
   "outputs": [],
   "source": [
    "STORE_PATH=\"atlas_20171002.hdf5\"\n",
    "\n",
    "with pd.HDFStore(STORE_PATH) as store:\n",
    "    anchor_df = store['anchor_df']"
   ]
  },
  {
   "cell_type": "code",
   "execution_count": 3,
   "metadata": {
    "collapsed": true
   },
   "outputs": [],
   "source": [
    "ANCHOR_NAMES_WE_LIKE = [\n",
    "    \"ar-bue-as4270\",   # Buenos Aires, Argentina\n",
    "    \"at-vie-as1120\",   # Vienna, Austria\n",
    "    \"au-mel-as38796\",  # Melbourne, Austraila\n",
    "    \"au-bne-as4608-2\", # Brisbane, Australia\n",
    "    \"bd-dac-as24122\",  # Dacca, Bangladesh\n",
    "    \"bf-oua-as37577\",  # Ouagadougou, Burkina Faso\n",
    "    \"bg-sof-as8866\",   # Sofia, Bulgaria\n",
    "    \"br-sao-as22548\",  # Sao Paulo, Brasil\n",
    "    \"ca-mtr-as852\",    # Montreal, Canada\n",
    "    \"ca-wnp-as18451\",  # Winnepeg, Canada\n",
    "    \"ch-gtg-as20612\",  # Glattbrug, Switzerland\n",
    "    \"ch-zrh-as559\",    # Zurich, Switzerland\n",
    "    \"cz-brq-as197451\", # Brno, Czechia\n",
    "    \"de-fra-as8763\",   # Frankfurt, Germany\n",
    "    \"de-ham-as201709\", # Hamburg, Germany\n",
    "    \"de-muc-as5539\",   # Munich, Germany\n",
    "    \"ee-tll-as51349\",  # Talinn, Estonia\n",
    "    \"es-bcn-as13041\",  # Barcelona, Spain\n",
    "    \"fr-par-as1307\",   # Paris, France\n",
    "    \"gr-ath-as5408\",   # Athens, Greece\n",
    "    \"hk-hkg-as43996\",  # Hong Kong SAR, China\n",
    "    \"hu-bud-as12303\",  # Budapest, Hungary\n",
    "    \"id-jkt-as10208\",  # Jakarta, Indonesia\n",
    "    \"ie-dub-as1213\",   # Dublin, Ireland\n",
    "    \"in-bom-as33480\",  # Mumbai, India\n",
    "    \"it-trn-as12779\",  # Turin, Italy\n",
    "    \"jp-tyo-as2500\",   # Tokyo, Japan\n",
    "    \"ke-nbo-as37578\",  # Nairobi, Kenya\n",
    "    \"kz-ala-as21299\",  # Almaty, Kazakhstan\n",
    "    \"nl-ams-as3333\",   # Amsterdam, Netherlands\n",
    "    \"nl-haa-as201682\", # Haarlen, Netherlands\n",
    "    \"nz-wlg-as9834\",   # Wellington, New Zealand\n",
    "    \"qa-doh-as8781\",   # Doha, Qatar\n",
    "    \"ru-mow-as15835\",  # Moscow, Russia\n",
    "    \"se-sto-as8674\",   # Stockholm, Sweden\n",
    "    \"uk-lon-as5607\",   # London, England\n",
    "    \"us-dal-as2914\",   # Dallas, USA\n",
    "    \"us-den-as7922\",   # Denver, USA\n",
    "    \"us-mia-as33280\",  # Miami, USA\n",
    "    \"us-sjc-as22300\",  # San Jose, USA\n",
    "]"
   ]
  },
  {
   "cell_type": "code",
   "execution_count": 7,
   "metadata": {},
   "outputs": [
    {
     "data": {
      "text/plain": [
       "array(['170.210.5.200', '193.171.255.2', '203.119.0.195', '120.29.255.85',\n",
       "       '210.4.72.46', '197.239.73.59', '213.91.165.185', '200.160.6.35',\n",
       "       '206.162.189.131', '208.81.1.60', '194.242.34.190', '130.59.80.2',\n",
       "       '147.229.242.8', '81.91.160.92', '185.41.104.166', '195.30.70.33',\n",
       "       '195.43.87.140', '84.88.18.254', '132.227.123.3', '83.212.7.42',\n",
       "       '185.28.220.65', '5.28.0.17', '202.153.128.82', '193.1.201.140',\n",
       "       '180.149.244.132', '213.212.129.68', '203.178.137.196',\n",
       "       '196.6.220.130', '85.29.165.14', '193.0.19.107', '185.67.44.230',\n",
       "       '210.4.208.19', '82.148.114.58', '193.232.226.58', '185.42.136.158',\n",
       "       '90.223.193.1', '129.250.50.30', '76.26.120.98', '65.22.12.230',\n",
       "       '74.120.190.250'], dtype=object)"
      ]
     },
     "execution_count": 7,
     "metadata": {},
     "output_type": "execute_result"
    }
   ],
   "source": [
    "anchor_df[anchor_df['name'].isin(ANCHOR_NAMES_WE_LIKE)]['ip4'].values"
   ]
  },
  {
   "cell_type": "code",
   "execution_count": 9,
   "metadata": {
    "collapsed": true
   },
   "outputs": [],
   "source": [
    "AddrLoc = namedtuple(\"AddrLoc\", (\"addr\", \"lon\", \"lat\"))\n",
    "\n",
    "def maxmind_location_for_address(addr):\n",
    "    url = \"https://stat.ripe.net/data/geoloc/data.json\"\n",
    "    \n",
    "    res = requests.get(url, params={\"resource\": addr})\n",
    "    if not res.ok:\n",
    "        print(\"RIPEstat probe API request failed: \"+repr(res.json()))\n",
    "        return AddrLoc(addr, 0.0,0.0)\n",
    "    \n",
    "    try:\n",
    "        api_content = json.loads(res.content.decode(\"utf-8\"))\n",
    "        api_loc = api_content['data']['locations'][0]\n",
    "        print(\"got location for \"+str(addr))\n",
    "        return AddrLoc(addr,float(api_loc['longitude']),float(api_loc['latitude']))\n",
    "    except Exception as e:\n",
    "        print(\"couldn't process content:\")\n",
    "        print(json.dumps(api_content, indent=2))\n",
    "        return AddrLoc(addr,0.0,0.0)"
   ]
  },
  {
   "cell_type": "code",
   "execution_count": 10,
   "metadata": {},
   "outputs": [],
   "source": [
    "addrloc_v4 = map(maxmind_location_for_address, anchor_df[anchor_df['name'].isin(ANCHOR_NAMES_WE_LIKE)]['ip4'].values)"
   ]
  },
  {
   "cell_type": "code",
   "execution_count": 11,
   "metadata": {},
   "outputs": [
    {
     "name": "stdout",
     "output_type": "stream",
     "text": [
      "got location for 170.210.5.200\n",
      "got location for 193.171.255.2\n",
      "got location for 203.119.0.195\n",
      "got location for 120.29.255.85\n",
      "got location for 210.4.72.46\n",
      "got location for 197.239.73.59\n",
      "got location for 213.91.165.185\n",
      "got location for 200.160.6.35\n",
      "got location for 206.162.189.131\n",
      "got location for 208.81.1.60\n",
      "got location for 194.242.34.190\n",
      "got location for 130.59.80.2\n",
      "got location for 147.229.242.8\n",
      "got location for 81.91.160.92\n",
      "got location for 185.41.104.166\n",
      "got location for 195.30.70.33\n",
      "got location for 195.43.87.140\n",
      "got location for 84.88.18.254\n",
      "got location for 132.227.123.3\n",
      "got location for 83.212.7.42\n",
      "got location for 185.28.220.65\n",
      "got location for 5.28.0.17\n",
      "got location for 202.153.128.82\n",
      "got location for 193.1.201.140\n",
      "got location for 180.149.244.132\n",
      "got location for 213.212.129.68\n",
      "got location for 203.178.137.196\n",
      "got location for 196.6.220.130\n",
      "got location for 85.29.165.14\n",
      "got location for 193.0.19.107\n",
      "got location for 185.67.44.230\n",
      "got location for 210.4.208.19\n",
      "got location for 82.148.114.58\n",
      "got location for 193.232.226.58\n",
      "got location for 185.42.136.158\n",
      "got location for 90.223.193.1\n",
      "got location for 129.250.50.30\n",
      "got location for 76.26.120.98\n",
      "got location for 65.22.12.230\n",
      "got location for 74.120.190.250\n"
     ]
    }
   ],
   "source": [
    "addrloc_v4l = [*addrloc_v4]"
   ]
  },
  {
   "cell_type": "code",
   "execution_count": 26,
   "metadata": {},
   "outputs": [],
   "source": [
    "mmdf = pd.DataFrame(addrloc_v4l)\n",
    "mmdf.index = mmdf['addr']\n",
    "del(mmdf['addr'])\n",
    "mmdf.columns = ('mm4lon','mm4lat')"
   ]
  },
  {
   "cell_type": "code",
   "execution_count": 28,
   "metadata": {},
   "outputs": [],
   "source": [
    "anchor_df = anchor_df.join(mmdf, on=\"ip4\")"
   ]
  },
  {
   "cell_type": "code",
   "execution_count": 29,
   "metadata": {
    "collapsed": true
   },
   "outputs": [],
   "source": [
    "STORE_PATH=\"atlas_20171002.hdf5\"\n",
    "\n",
    "with pd.HDFStore(STORE_PATH) as store:\n",
    "    store['anchor_df'] = anchor_df"
   ]
  },
  {
   "cell_type": "code",
   "execution_count": null,
   "metadata": {
    "collapsed": true
   },
   "outputs": [],
   "source": []
  }
 ],
 "metadata": {
  "kernelspec": {
   "display_name": "Python 3",
   "language": "python",
   "name": "python3"
  },
  "language_info": {
   "codemirror_mode": {
    "name": "ipython",
    "version": 3
   },
   "file_extension": ".py",
   "mimetype": "text/x-python",
   "name": "python",
   "nbconvert_exporter": "python",
   "pygments_lexer": "ipython3",
   "version": "3.6.2"
  }
 },
 "nbformat": 4,
 "nbformat_minor": 2
}
